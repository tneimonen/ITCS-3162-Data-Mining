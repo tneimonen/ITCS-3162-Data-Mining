{
 "cells": [
  {
   "cell_type": "code",
   "execution_count": 22,
   "id": "270eefc1-e8d3-4364-93bf-24ade775f18f",
   "metadata": {},
   "outputs": [
    {
     "name": "stdout",
     "output_type": "stream",
     "text": [
      "Defaulting to user installation because normal site-packages is not writeable\n",
      "Looking in links: /usr/share/pip-wheels\n",
      "Requirement already satisfied: numpy in /opt/conda/envs/anaconda-panel-2023.05-py310/lib/python3.11/site-packages (1.24.3)\n",
      "Requirement already satisfied: pandas in /opt/conda/envs/anaconda-panel-2023.05-py310/lib/python3.11/site-packages (2.0.3)\n",
      "Requirement already satisfied: matplotlib in /opt/conda/envs/anaconda-panel-2023.05-py310/lib/python3.11/site-packages (3.7.2)\n",
      "Requirement already satisfied: seaborn in /opt/conda/envs/anaconda-panel-2023.05-py310/lib/python3.11/site-packages (0.12.2)\n",
      "Requirement already satisfied: imbalanced-learn in /opt/conda/envs/anaconda-panel-2023.05-py310/lib/python3.11/site-packages (0.10.1)\n",
      "Requirement already satisfied: python-dateutil>=2.8.2 in /opt/conda/envs/anaconda-panel-2023.05-py310/lib/python3.11/site-packages (from pandas) (2.8.2)\n",
      "Requirement already satisfied: pytz>=2020.1 in /opt/conda/envs/anaconda-panel-2023.05-py310/lib/python3.11/site-packages (from pandas) (2023.3.post1)\n",
      "Requirement already satisfied: tzdata>=2022.1 in /opt/conda/envs/anaconda-panel-2023.05-py310/lib/python3.11/site-packages (from pandas) (2023.3)\n",
      "Requirement already satisfied: contourpy>=1.0.1 in /opt/conda/envs/anaconda-panel-2023.05-py310/lib/python3.11/site-packages (from matplotlib) (1.0.5)\n",
      "Requirement already satisfied: cycler>=0.10 in /opt/conda/envs/anaconda-panel-2023.05-py310/lib/python3.11/site-packages (from matplotlib) (0.11.0)\n",
      "Requirement already satisfied: fonttools>=4.22.0 in /opt/conda/envs/anaconda-panel-2023.05-py310/lib/python3.11/site-packages (from matplotlib) (4.25.0)\n",
      "Requirement already satisfied: kiwisolver>=1.0.1 in /opt/conda/envs/anaconda-panel-2023.05-py310/lib/python3.11/site-packages (from matplotlib) (1.4.4)\n",
      "Requirement already satisfied: packaging>=20.0 in /opt/conda/envs/anaconda-panel-2023.05-py310/lib/python3.11/site-packages (from matplotlib) (23.1)\n",
      "Requirement already satisfied: pillow>=6.2.0 in /opt/conda/envs/anaconda-panel-2023.05-py310/lib/python3.11/site-packages (from matplotlib) (9.4.0)\n",
      "Requirement already satisfied: pyparsing<3.1,>=2.3.1 in /opt/conda/envs/anaconda-panel-2023.05-py310/lib/python3.11/site-packages (from matplotlib) (3.0.9)\n",
      "Requirement already satisfied: scipy>=1.3.2 in /opt/conda/envs/anaconda-panel-2023.05-py310/lib/python3.11/site-packages (from imbalanced-learn) (1.11.1)\n",
      "Requirement already satisfied: scikit-learn>=1.0.2 in /opt/conda/envs/anaconda-panel-2023.05-py310/lib/python3.11/site-packages (from imbalanced-learn) (1.3.0)\n",
      "Requirement already satisfied: joblib>=1.1.1 in /opt/conda/envs/anaconda-panel-2023.05-py310/lib/python3.11/site-packages (from imbalanced-learn) (1.2.0)\n",
      "Requirement already satisfied: threadpoolctl>=2.0.0 in /opt/conda/envs/anaconda-panel-2023.05-py310/lib/python3.11/site-packages (from imbalanced-learn) (2.2.0)\n",
      "Requirement already satisfied: six>=1.5 in /opt/conda/envs/anaconda-panel-2023.05-py310/lib/python3.11/site-packages (from python-dateutil>=2.8.2->pandas) (1.16.0)\n"
     ]
    }
   ],
   "source": [
    "!pip install numpy pandas matplotlib seaborn imbalanced-learn"
   ]
  },
  {
   "cell_type": "markdown",
   "id": "99dc2b64-1019-490f-89ad-630f57d6efef",
   "metadata": {},
   "source": [
    "# <u>GPA vs. Study Hours (Project 3)</u>"
   ]
  },
  {
   "cell_type": "markdown",
   "id": "2b720977-7806-400d-83a6-86e9fcf7ae46",
   "metadata": {},
   "source": [
    "## What is Regression? \n",
    "1) Linear regression is a statistical method used to model the relationship between one or more independent variables and a dependent variable. It helps us understand if there is a relationship between these variables.\n",
    "2) <b>Two types of Linear Regression:</b>\n",
    "- Simple Linear Regression: there is only one independent variable.\n",
    "- Multiple Linear Regression : There are two or more independent variables.\n",
    "\n",
    "3) You can help solve linear regression by using a formula to find the best fitting line (also called the regression line). It is represented by the forumla below:\n",
    "\n",
    "y = b0 + b1X + e"
   ]
  },
  {
   "cell_type": "markdown",
   "id": "655db845-07e6-4399-93e2-279f9ebc4f87",
   "metadata": {},
   "source": [
    "## What is the problem?\n",
    "Most the time, colleges will address academic performance overall by using the Grade Point Average (GPA). This can be linked to a students success in the educational environment. We hope to understand the relationship between the amount of study hours a student does and compare it to the overall GPA they receive. We are hoping to identify patterns and conduct analysis using regression and other techniques in this project to address some of the questions below.\n",
    "\n",
    "## Questions we are trying to answer?\n",
    "\n",
    "1. **Is there a strong relationship between the number of study hours and a higher GPA?**\n",
    "\n",
    "2. **What is the minimum number of study hours typically associated with a GPA above 3.5?**\n",
    "\n",
    "3. **Are there any unexpected patterns in the data, such as high GPAs with minimal study hours?**"
   ]
  },
  {
   "cell_type": "markdown",
   "id": "bb0e7d9e-1340-4879-9f42-5d0673dc33b6",
   "metadata": {},
   "source": [
    "## Introducing the Data \n",
    "For this project, I found a dataset on Kaggle that explores the relationship between GPA and study hours. You can directly view or download the dataset by clicking <a href=\"https://www.kaggle.com/code/shiivvvaam/gpa-v-s-study-hours/\" id=\"url\" runat=\"server\">HERE</a>. This dataset provides a simple yet insightful look at how study time might relate to academic performance, as measured by GPA. \n",
    "\n",
    "### Dataset Information:\n",
    "This dataset contains 2 columns, both numerical, representing a total of 193 entries. The columns in the dataset are as follows:\n",
    "- GPA (Numerical): This scale based off my experience is from 0.0 to 4.0. We have one entry with 4.3 that we will remove later. \n",
    "- Study_Hours (Numerical) : The hours students reportedly studied that range from 2 to 69 hours."
   ]
  },
  {
   "cell_type": "code",
   "execution_count": 23,
   "id": "0597a3d7-f9df-4727-a6fa-6c0c29def703",
   "metadata": {},
   "outputs": [],
   "source": [
    "import pandas as pd"
   ]
  },
  {
   "cell_type": "markdown",
   "id": "ef762185-8a3e-4b19-83ee-1db1dbf9d5c9",
   "metadata": {},
   "source": [
    "### Import and read the dataset that I am using for this project."
   ]
  },
  {
   "cell_type": "code",
   "execution_count": 24,
   "id": "2e9eab6c-d82c-49cd-a0ce-81558af0b38a",
   "metadata": {},
   "outputs": [],
   "source": [
    "df = pd.read_csv(\"gpa_study_hours.csv\")"
   ]
  },
  {
   "cell_type": "markdown",
   "id": "fde57e7a-ec4f-4519-9d90-cd712fe05060",
   "metadata": {},
   "source": [
    "### Checking using the df.head() command to make sure that the dataset was properly imported into the project file."
   ]
  },
  {
   "cell_type": "code",
   "execution_count": 25,
   "id": "212aab25-436a-455e-aa5f-7db9360f97c1",
   "metadata": {},
   "outputs": [
    {
     "data": {
      "text/html": [
       "<div>\n",
       "<style scoped>\n",
       "    .dataframe tbody tr th:only-of-type {\n",
       "        vertical-align: middle;\n",
       "    }\n",
       "\n",
       "    .dataframe tbody tr th {\n",
       "        vertical-align: top;\n",
       "    }\n",
       "\n",
       "    .dataframe thead th {\n",
       "        text-align: right;\n",
       "    }\n",
       "</style>\n",
       "<table border=\"1\" class=\"dataframe\">\n",
       "  <thead>\n",
       "    <tr style=\"text-align: right;\">\n",
       "      <th></th>\n",
       "      <th>gpa</th>\n",
       "      <th>study_hours</th>\n",
       "    </tr>\n",
       "  </thead>\n",
       "  <tbody>\n",
       "    <tr>\n",
       "      <th>0</th>\n",
       "      <td>4.00</td>\n",
       "      <td>10.0</td>\n",
       "    </tr>\n",
       "    <tr>\n",
       "      <th>1</th>\n",
       "      <td>3.80</td>\n",
       "      <td>25.0</td>\n",
       "    </tr>\n",
       "    <tr>\n",
       "      <th>2</th>\n",
       "      <td>3.93</td>\n",
       "      <td>45.0</td>\n",
       "    </tr>\n",
       "    <tr>\n",
       "      <th>3</th>\n",
       "      <td>3.40</td>\n",
       "      <td>10.0</td>\n",
       "    </tr>\n",
       "    <tr>\n",
       "      <th>4</th>\n",
       "      <td>3.20</td>\n",
       "      <td>4.0</td>\n",
       "    </tr>\n",
       "  </tbody>\n",
       "</table>\n",
       "</div>"
      ],
      "text/plain": [
       "    gpa  study_hours\n",
       "0  4.00         10.0\n",
       "1  3.80         25.0\n",
       "2  3.93         45.0\n",
       "3  3.40         10.0\n",
       "4  3.20          4.0"
      ]
     },
     "execution_count": 25,
     "metadata": {},
     "output_type": "execute_result"
    }
   ],
   "source": [
    "df.head()"
   ]
  },
  {
   "cell_type": "markdown",
   "id": "7d31343b-a432-4898-bb99-bdd2e53d164e",
   "metadata": {},
   "source": [
    "### Checking the column names, and showing the data type that each column has."
   ]
  },
  {
   "cell_type": "code",
   "execution_count": 26,
   "id": "ad1b201f-02e1-4af0-b406-868eadc024d8",
   "metadata": {},
   "outputs": [
    {
     "name": "stdout",
     "output_type": "stream",
     "text": [
      "<class 'pandas.core.frame.DataFrame'>\n",
      "RangeIndex: 193 entries, 0 to 192\n",
      "Data columns (total 2 columns):\n",
      " #   Column       Non-Null Count  Dtype  \n",
      "---  ------       --------------  -----  \n",
      " 0   gpa          193 non-null    float64\n",
      " 1   study_hours  193 non-null    float64\n",
      "dtypes: float64(2)\n",
      "memory usage: 3.1 KB\n"
     ]
    }
   ],
   "source": [
    "df.info()"
   ]
  },
  {
   "cell_type": "markdown",
   "id": "421f6a7d-958e-4c0a-983d-129d43a0936f",
   "metadata": {},
   "source": [
    "### Checking to see if there are any missing values in the data set that may cause issues later on when we do the experiments."
   ]
  },
  {
   "cell_type": "code",
   "execution_count": 27,
   "id": "fa2c2639-dec0-43db-80d0-804a642548f6",
   "metadata": {},
   "outputs": [
    {
     "name": "stdout",
     "output_type": "stream",
     "text": [
      "Missing values:\n",
      " gpa            0\n",
      "study_hours    0\n",
      "dtype: int64\n"
     ]
    }
   ],
   "source": [
    "print(\"Missing values:\\n\", df.isnull().sum())"
   ]
  },
  {
   "cell_type": "markdown",
   "id": "383f1e13-d2b3-4457-a3c5-1771e1b19150",
   "metadata": {},
   "source": [
    "### Checking the outliers based on normal GPA standards (0-4.0) and anything over 100 hours of studying."
   ]
  },
  {
   "cell_type": "code",
   "execution_count": 28,
   "id": "0ff88ed6-d6fc-4b89-ae4f-c4fef45767c1",
   "metadata": {},
   "outputs": [
    {
     "name": "stdout",
     "output_type": "stream",
     "text": [
      "\n",
      "GPA outliers:\n",
      "     gpa  study_hours\n",
      "79  4.3         10.0\n",
      "\n",
      "Study hours outliers:\n",
      " Empty DataFrame\n",
      "Columns: [gpa, study_hours]\n",
      "Index: []\n"
     ]
    }
   ],
   "source": [
    "outliers_gpa = df[(df['gpa'] > 4.0) | (df['gpa'] < 0)]\n",
    "outliers_hours = df[(df['study_hours'] < 0) | (df['study_hours'] > 100)]\n",
    "print(\"\\nGPA outliers:\\n\", outliers_gpa)\n",
    "print(\"\\nStudy hours outliers:\\n\", outliers_hours)"
   ]
  },
  {
   "cell_type": "markdown",
   "id": "5393fff1-1db1-41b4-af8e-1e3d95a9a660",
   "metadata": {},
   "source": [
    "### As we can see above, there is one row that is outside the outliers that we have identified for this project. We will clean the data and remove this row from the data set. This aso includes the mean, STD, min, max, median, and the 25th and 75th percentiles for better understanding of the data set."
   ]
  },
  {
   "cell_type": "code",
   "execution_count": 29,
   "id": "65798989-db59-43f6-8996-20754038f055",
   "metadata": {},
   "outputs": [
    {
     "name": "stdout",
     "output_type": "stream",
     "text": [
      "Original shape: (193, 2)\n",
      "Cleaned shape: (192, 2)\n",
      "\n",
      "Summary statistics after removing outliers:\n",
      "               gpa  study_hours\n",
      "count  192.000000   192.000000\n",
      "mean     3.582448    17.515625\n",
      "std      0.281504    11.425940\n",
      "min      2.600000     2.000000\n",
      "25%      3.400000    10.000000\n",
      "50%      3.615000    15.000000\n",
      "75%      3.800000    20.000000\n",
      "max      4.000000    69.000000\n"
     ]
    }
   ],
   "source": [
    "df_cleaned = df[(df['gpa'] <= 4.0) & (df['gpa'] >= 0)]\n",
    "df_cleaned = df_cleaned[(df_cleaned['study_hours'] >= 0) & (df_cleaned['study_hours'] <= 100)]\n",
    "print(\"Original shape:\", df.shape)\n",
    "print(\"Cleaned shape:\", df_cleaned.shape)\n",
    "print(\"\\nSummary statistics after removing outliers:\\n\", df_cleaned.describe())"
   ]
  },
  {
   "cell_type": "code",
   "execution_count": 30,
   "id": "fb4082b1-6286-4b62-9f88-eae8fd48c6d3",
   "metadata": {},
   "outputs": [],
   "source": [
    "import seaborn as sns"
   ]
  },
  {
   "cell_type": "markdown",
   "id": "eb608e38-b83c-4e3a-9881-41160b35fd8d",
   "metadata": {},
   "source": [
    "### Creating a Pairplot to see the two variables (GPA vs. Study Hours) and seeing the trends/patterns in visual form."
   ]
  },
  {
   "cell_type": "code",
   "execution_count": 31,
   "id": "9c30272d-931f-4484-9205-bc313bf92539",
   "metadata": {},
   "outputs": [
    {
     "name": "stderr",
     "output_type": "stream",
     "text": [
      "/opt/conda/envs/anaconda-panel-2023.05-py310/lib/python3.11/site-packages/seaborn/axisgrid.py:118: UserWarning: The figure layout has changed to tight\n",
      "  self._figure.tight_layout(*args, **kwargs)\n"
     ]
    },
    {
     "data": {
      "text/plain": [
       "<seaborn.axisgrid.PairGrid at 0x789c19a71050>"
      ]
     },
     "execution_count": 31,
     "metadata": {},
     "output_type": "execute_result"
    },
    {
     "data": {
      "image/png": "[encoded data removed]",
      "text/plain": [
       "<Figure size 500x500 with 6 Axes>"
      ]
     },
     "metadata": {},
     "output_type": "display_data"
    }
   ],
   "source": [
    "sns.pairplot(df_cleaned)"
   ]
  },
  {
   "cell_type": "markdown",
   "id": "9e7f57db-a4c8-4107-8d16-45405f53a8ba",
   "metadata": {},
   "source": [
    "## Summary of Graph Above :\n",
    "\n",
    "# Top Left: \n",
    "- This histogram shows the distribution of GPA's, with a majority being between 3.2 and 4.0. There seems to be a peak around the 3.6 range. However, there are a few below 3.0 \n",
    "# Top Right \n",
    "- This scatter plot shows the GPA (x-axis) against the study hours (y-axis), there really isnt a noticeable trend between the two variables. A noticing observation is that many of the students are between 3.2-4.0 have study hours that are between 0-25 hours. \n",
    "# Bottom Left: \n",
    "- This scatter plot shows the study hours (x-axis) against the GPA (y-axis). Essentially this just shows the change of the axis with the variables. It can kind of confirm that there really isnt a strong relationship between the two variables.\n",
    "# Bottom Right: \n",
    "- This histogram displays the distribution of study hours, with most being (like mentioned previously) between 0-30 with a significant peak in the 10-20 hour range. There are a few students that go beyond 30 hours."
   ]
  },
  {
   "cell_type": "markdown",
   "id": "6e7d271e-7f8e-45be-8251-3671f3b37c3b",
   "metadata": {},
   "source": [
    "### Finding the correlation between the variables. Having a .133 shows a weak positive relationship that could show that there might not be a big correlation between the two variables."
   ]
  },
  {
   "cell_type": "code",
   "execution_count": 32,
   "id": "9aefe5b1-3909-4c0c-8ca2-01479aa6fc94",
   "metadata": {},
   "outputs": [
    {
     "name": "stdout",
     "output_type": "stream",
     "text": [
      "Correlation between GPA and study hours: 0.1330137774213701\n"
     ]
    }
   ],
   "source": [
    "correlation = df['gpa'].corr(df['study_hours'])\n",
    "print(\"Correlation between GPA and study hours:\", correlation)"
   ]
  },
  {
   "cell_type": "markdown",
   "id": "4355f962-e5ed-4408-949c-344f096c3ba9",
   "metadata": {},
   "source": [
    "### Put s the study hours in bins, this will help us determine (show) the average GPA that students have when they study between a certain amount of hours. The hour were adjusted by 10s."
   ]
  },
  {
   "cell_type": "code",
   "execution_count": 33,
   "id": "b5d2a534-745c-40f5-b6af-7af543bb07ed",
   "metadata": {},
   "outputs": [
    {
     "name": "stdout",
     "output_type": "stream",
     "text": [
      "\n",
      "Average GPA by study hour range:\n",
      " hours_bin\n",
      "(0, 10]     3.558736\n",
      "(10, 20]    3.590267\n",
      "(20, 30]    3.612750\n",
      "(30, 40]    3.546273\n",
      "(40, 50]    3.710000\n",
      "(50, 60]    3.828333\n",
      "(60, 70]    3.850000\n",
      "Name: gpa, dtype: float64\n"
     ]
    }
   ],
   "source": [
    "bins = [0, 10, 20, 30, 40, 50, 60, 70]\n",
    "df['hours_bin'] = pd.cut(df['study_hours'], bins)\n",
    "avg_gpa_by_bin = df.groupby('hours_bin')['gpa'].mean()\n",
    "print(\"\\nAverage GPA by study hour range:\\n\", avg_gpa_by_bin)\n"
   ]
  },
  {
   "cell_type": "markdown",
   "id": "3fcc56df-4d83-4f66-8fea-17f87d04cbfd",
   "metadata": {},
   "source": [
    "## Experiment 1: Modeling (Linear Regression)"
   ]
  },
  {
   "cell_type": "code",
   "execution_count": 41,
   "id": "4b77d728-bbea-440c-89dd-889f1584ba06",
   "metadata": {},
   "outputs": [],
   "source": [
    "from sklearn.model_selection import train_test_split\n",
    "from sklearn.linear_model import LinearRegression\n",
    "import matplotlib.pyplot as plt\n",
    "import numpy as np\n",
    "from sklearn.metrics import mean_squared_error, r2_score"
   ]
  },
  {
   "cell_type": "code",
   "execution_count": 45,
   "id": "6558ae4f-19a1-4042-956a-b8230bba335c",
   "metadata": {},
   "outputs": [
    {
     "name": "stdout",
     "output_type": "stream",
     "text": [
      "Intercept (b0): 3.514168436648366\n",
      "Slope (b1): 0.0037847309699082865\n"
     ]
    }
   ],
   "source": [
    "X = df_cleaned[['study_hours']]\n",
    "y = df_cleaned['gpa']\n",
    "\n",
    "X_train, X_test, y_train, y_test = train_test_split(X, y, test_size=0.2, random_state=42)\n",
    "\n",
    "model = LinearRegression()\n",
    "model.fit(X_train, y_train)\n",
    "\n",
    "print(\"Intercept (b0):\", model.intercept_)\n",
    "print(\"Slope (b1):\", model.coef_[0])"
   ]
  },
  {
   "cell_type": "markdown",
   "id": "dede0761-b944-45ea-b14b-110443992398",
   "metadata": {},
   "source": [
    "## Interpretation of Linear Regression Model\n",
    "- For Experiment 1, I built a linear regression model to see how study hours impact GPA, and it gave me this equation: GPA = 3.514 + 0.00378 * study_hours. The intercept (b0 = 3.514) is what the model predicts my GPA would be if I didn’t study at all, which is pretty solid since the average GPA in my cleaned dataset is around 3.582. It’s cool to see that a lot of students are holding steady academically even with low study hours. The slope (b1 = 0.00378) shows how much GPA goes up per extra hour of studying—for example, 10 more hours only adds about 0.038 to my GPA, which is tiny. That lines up with the weak correlation I found earlier (0.133), so it seems like study hours don’t make a huge difference here."
   ]
  },
  {
   "cell_type": "markdown",
   "id": "4de43dfe-b979-4448-bbba-286400dd5bc2",
   "metadata": {},
   "source": [
    "## Experiment 1: Evaluation"
   ]
  },
  {
   "cell_type": "code",
   "execution_count": 46,
   "id": "530be5ac-b9a8-4ff5-adfe-ce1d8f1012fb",
   "metadata": {},
   "outputs": [
    {
     "name": "stdout",
     "output_type": "stream",
     "text": [
      "Mean Squared Error (MSE): 0.06847400514390602\n",
      "Root Mean Squared Error (RMSE): 0.26167538123389833\n",
      "R-squared (R²): -0.002841606968649435\n"
     ]
    },
    {
     "data": {
      "image/png": "[encoded data removed]",
      "text/plain": [
       "<Figure size 800x600 with 1 Axes>"
      ]
     },
     "metadata": {},
     "output_type": "display_data"
    }
   ],
   "source": [
    "from sklearn.metrics import mean_squared_error, r2_score\n",
    "import matplotlib.pyplot as plt\n",
    "import numpy as np\n",
    "\n",
    "y_test_pred = model.predict(X_test)\n",
    "\n",
    "mse = mean_squared_error(y_test, y_test_pred)  \n",
    "rmse = np.sqrt(mse)  \n",
    "r2 = r2_score(y_test, y_test_pred)  \n",
    "\n",
    "print(\"Mean Squared Error (MSE):\", mse)\n",
    "print(\"Root Mean Squared Error (RMSE):\", rmse)\n",
    "print(\"R-squared (R²):\", r2)\n",
    "\n",
    "y_pred = model.predict(X)\n",
    "\n",
    "plt.figure(figsize=(8, 6))\n",
    "plt.scatter(df_cleaned['study_hours'], df_cleaned['gpa'], color='blue', alpha=0.5, label='Data points')\n",
    "plt.plot(df_cleaned['study_hours'], y_pred, color='red', linewidth=2, label='Regression line')\n",
    "plt.xlabel('Study Hours')\n",
    "plt.ylabel('GPA')\n",
    "plt.title('Experiment 1: Linear Regression of GPA vs. Study Hours')\n",
    "plt.legend()\n",
    "plt.grid(True)\n",
    "plt.show()"
   ]
  },
  {
   "cell_type": "markdown",
   "id": "672e2120-3c17-46a9-b6ba-aa5a8a35122e",
   "metadata": {},
   "source": [
    "## Evaulation of Linear Regression: \n",
    "\n",
    "- To check how well my model did, I looked at some metrics using the test set. The Mean Squared Error (MSE) was 0.0685, which is the average of the squared differences between my predicted GPAs and the real ones—kind of a raw error measure. The Root Mean Squared Error (RMSE) came out to 0.262, which puts that error into GPA points, meaning my predictions are typically off by about 0.262. With GPAs ranging from 2.6 to 4.0 (a 1.4-point spread), that’s not awful but not super precise either—it’s roughly 19% of the range. The R-squared (R²) value of -0.0028 was a surprise—it’s basically zero and even negative, meaning my model doesn’t explain much of why GPAs vary and might be worse than just guessing the average GPA every time. That fits with the weak link I saw before.\n",
    "\n",
    "- These results tie into the questions I started with. The small slope (0.00378) and near-zero R² (-0.0028) show there’s not a strong connection between more study hours and a higher GPA (Question 1)—the effect is so small it’s almost meaningless. The RMSE of 0.262 means my predictions aren’t steady enough to nail down how many hours I’d need for a GPA above 3.5 (Question 2). The model says I’d get 3.514 with no studying, but that error range (±0.262) makes it hard to be sure. For Question 3, the high intercept (3.514) and the scattered points in my plot point to some interesting patterns—like how some students pull off 3.8 or 4.0 GPAs with just 2–10 hours, while others study 40–60 hours and don’t do much better. It’s probably more about how they study or other stuff going on, and this basic model isn’t picking that up."
   ]
  },
  {
   "cell_type": "markdown",
   "id": "bb3a2278-8ac5-4aea-8aa1-7b934205ad6f",
   "metadata": {},
   "source": [
    "## Experiment 2: "
   ]
  },
  {
   "cell_type": "code",
   "execution_count": 1,
   "id": "06947214-aafb-4942-b1d3-7665e01bf582",
   "metadata": {},
   "outputs": [
    {
     "ename": "NameError",
     "evalue": "name 'df_cleaned' is not defined",
     "output_type": "error",
     "traceback": [
      "\u001b[0;31m---------------------------------------------------------------------------\u001b[0m",
      "\u001b[0;31mNameError\u001b[0m                                 Traceback (most recent call last)",
      "Cell \u001b[0;32mIn[1], line 4\u001b[0m\n\u001b[1;32m      1\u001b[0m \u001b[38;5;28;01mfrom\u001b[39;00m \u001b[38;5;21;01msklearn\u001b[39;00m\u001b[38;5;21;01m.\u001b[39;00m\u001b[38;5;21;01mlinear_model\u001b[39;00m \u001b[38;5;28;01mimport\u001b[39;00m LogisticRegression\n\u001b[0;32m----> 4\u001b[0m df_cleaned[\u001b[38;5;124m'\u001b[39m\u001b[38;5;124mhigh_gpa\u001b[39m\u001b[38;5;124m'\u001b[39m] \u001b[38;5;241m=\u001b[39m (df_cleaned[\u001b[38;5;124m'\u001b[39m\u001b[38;5;124mgpa\u001b[39m\u001b[38;5;124m'\u001b[39m] \u001b[38;5;241m>\u001b[39m\u001b[38;5;241m=\u001b[39m \u001b[38;5;241m3.5\u001b[39m)\u001b[38;5;241m.\u001b[39mastype(\u001b[38;5;28mint\u001b[39m)\n\u001b[1;32m      7\u001b[0m X_logistic \u001b[38;5;241m=\u001b[39m df_cleaned[[\u001b[38;5;124m'\u001b[39m\u001b[38;5;124mstudy_hours\u001b[39m\u001b[38;5;124m'\u001b[39m]]\n\u001b[1;32m      8\u001b[0m y_logistic \u001b[38;5;241m=\u001b[39m df_cleaned[\u001b[38;5;124m'\u001b[39m\u001b[38;5;124mhigh_gpa\u001b[39m\u001b[38;5;124m'\u001b[39m]\n",
      "\u001b[0;31mNameError\u001b[0m: name 'df_cleaned' is not defined"
     ]
    }
   ],
   "source": [
    "\n",
    "from sklearn.linear_model import LogisticRegression\n",
    "\n",
    "\n",
    "df_cleaned['high_gpa'] = (df_cleaned['gpa'] >= 3.5).astype(int)\n",
    "\n",
    "\n",
    "X_logistic = df_cleaned[['study_hours']]\n",
    "y_logistic = df_cleaned['high_gpa']\n",
    "\n",
    "\n",
    "X_log_train, X_log_test, y_log_train, y_log_test = train_test_split(X_logistic, y_logistic, test_size=0.2, random_state=42, stratify=y_logistic)\n",
    "\n",
    "model_logistic = LogisticRegression()\n",
    "model_logistic.fit(X_log_train, y_log_train)\n",
    "\n",
    "\n",
    "print(\"Experiment 2 - Intercept (b0):\", model_logistic.intercept_[0])\n",
    "print(\"Experiment 2 - Slope (b1):\", model_logistic.coef_[0][0])\n",
    "\n",
    "\n",
    "y_log_test_pred = model_logistic.predict(X_log_test)\n",
    "\n",
    "\n",
    "accuracy = accuracy_score(y_log_test, y_log_test_pred)\n",
    "print(\"Experiment 2 - Accuracy:\", accuracy)\n",
    "\n",
    "\n",
    "print(\"Experiment 2 - Classification Report:\\n\", classification_report(y_log_test, y_log_test_pred))\n",
    "\n",
    "\n",
    "X_range = pd.DataFrame(np.linspace(X_logistic.min(), X_logistic.max(), 100), columns=['study_hours'])\n",
    "y_prob = model_logistic.predict_proba(X_range)[:, 1]  # Probability of GPA >= 3.5\n",
    "plt.figure(figsize=(8, 6))\n",
    "plt.scatter(df_cleaned['study_hours'], df_cleaned['high_gpa'], color='purple', alpha=0.5, label='Data points')\n",
    "plt.plot(X_range, y_prob, color='green', linewidth=2, label='Logistic curve')\n",
    "plt.xlabel('Study Hours')\n",
    "plt.ylabel('Probability of GPA >= 3.5')\n",
    "plt.title('Experiment 2: Logistic Regression for High GPA (Stratified)')\n",
    "plt.legend()\n",
    "plt.grid(True)\n",
    "plt.show()"
   ]
  },
  {
   "cell_type": "markdown",
   "id": "53ce55ea-332b-4cb2-934d-ce553098c9b1",
   "metadata": {},
   "source": [
    "## Experiment 3:"
   ]
  },
  {
   "cell_type": "markdown",
   "id": "fa07c3f9-6102-4832-b615-b7863cfb92c8",
   "metadata": {},
   "source": [
    "## Impact Section"
   ]
  },
  {
   "cell_type": "markdown",
   "id": "8948c91d-f756-4ed0-bca7-c180bea9624f",
   "metadata": {},
   "source": [
    "## Conclusion"
   ]
  },
  {
   "cell_type": "markdown",
   "id": "eb4573cc-1dbd-46bb-abd9-79b43a13ecd8",
   "metadata": {},
   "source": [
    "## References\n",
    "- Kaggle dataset https://www.kaggle.com/code/shiivvvaam/gpa-v-s-study-hours/\n",
    "- Scikit-learn LinearRegression docs: https://scikit learn.org/stable/modules/generated/sklearn.linear_model.LinearRegression.html\n",
    "- Various Canvas Demo's taught in class to reference\n",
    "- Canvas Guides on Matplotlib\n",
    "- Canvas Guides on Numpy"
   ]
  },
  {
   "cell_type": "code",
   "execution_count": null,
   "id": "53ff3176-25e9-4f35-ab89-411045b01b08",
   "metadata": {},
   "outputs": [],
   "source": []
  }
 ],
 "metadata": {
  "kernelspec": {
   "display_name": "anaconda-panel-2023.05-py310",
   "language": "python",
   "name": "conda-env-anaconda-panel-2023.05-py310-py"
  },
  "language_info": {
   "codemirror_mode": {
    "name": "ipython",
    "version": 3
   },
   "file_extension": ".py",
   "mimetype": "text/x-python",
   "name": "python",
   "nbconvert_exporter": "python",
   "pygments_lexer": "ipython3",
   "version": "3.11.5"
  }
 },
 "nbformat": 4,
 "nbformat_minor": 5
}
